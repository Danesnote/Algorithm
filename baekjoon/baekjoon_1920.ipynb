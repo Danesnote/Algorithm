{
  "nbformat": 4,
  "nbformat_minor": 0,
  "metadata": {
    "colab": {
      "name": "baekjoon_1920.ipynb",
      "provenance": [],
      "collapsed_sections": []
    },
    "kernelspec": {
      "name": "python3",
      "display_name": "Python 3"
    },
    "language_info": {
      "name": "python"
    }
  },
  "cells": [
    {
      "cell_type": "code",
      "metadata": {
        "id": "FRkLWWZtOIQu",
        "colab": {
          "base_uri": "https://localhost:8080/"
        },
        "outputId": "50483ffd-ac03-4366-dfe3-30e274c90b04"
      },
      "source": [
        "nums1 = []\n",
        "nums2 = []\n",
        "\n",
        "N = int(input())\n",
        "nums1[:N] = map(int,input().split())\n",
        "M = int(input())\n",
        "nums2[:M] = map(int,input().split())\n",
        "\n",
        "for k in range(M):\n",
        "   if nums2[k] in nums1:\n",
        "     print(1)\n",
        "   else:\n",
        "     print(0)\n",
        "\n",
        "\n"
      ],
      "execution_count": 38,
      "outputs": [
        {
          "output_type": "stream",
          "name": "stdout",
          "text": [
            "5\n",
            "4 1 5 2 3\n",
            "5\n",
            "1 3 7 9 5\n",
            "1\n",
            "1\n",
            "0\n",
            "0\n",
            "1\n"
          ]
        }
      ]
    }
  ]
}