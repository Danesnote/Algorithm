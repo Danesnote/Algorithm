{
  "nbformat": 4,
  "nbformat_minor": 0,
  "metadata": {
    "colab": {
      "name": "baekjoon_2750.ipynb",
      "provenance": [],
      "collapsed_sections": []
    },
    "kernelspec": {
      "name": "python3",
      "display_name": "Python 3"
    },
    "language_info": {
      "name": "python"
    }
  },
  "cells": [
    {
      "cell_type": "code",
      "metadata": {
        "id": "FRkLWWZtOIQu",
        "colab": {
          "base_uri": "https://localhost:8080/"
        },
        "outputId": "db91dc13-962d-4547-ddfb-84e197d3a805"
      },
      "source": [
        "N = int(input())\n",
        "\n",
        "nums = [0] * N\n",
        "\n",
        "for i in range(N):\n",
        "  nums[i] = int(input())\n",
        "\n",
        "nums.sort()\n",
        "for j in range(N):\n",
        "  print(nums[j])\n",
        "\n",
        "\n"
      ],
      "execution_count": 4,
      "outputs": [
        {
          "output_type": "stream",
          "name": "stdout",
          "text": [
            "5\n",
            "1\n",
            "4\n",
            "3\n",
            "5\n",
            "10\n",
            "1\n",
            "3\n",
            "4\n",
            "5\n",
            "10\n"
          ]
        }
      ]
    }
  ]
}