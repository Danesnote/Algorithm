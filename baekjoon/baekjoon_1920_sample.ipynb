{
  "nbformat": 4,
  "nbformat_minor": 0,
  "metadata": {
    "colab": {
      "name": "baekjoon_1920_sample.ipynb",
      "provenance": [],
      "collapsed_sections": []
    },
    "kernelspec": {
      "name": "python3",
      "display_name": "Python 3"
    },
    "language_info": {
      "name": "python"
    }
  },
  "cells": [
    {
      "cell_type": "code",
      "metadata": {
        "id": "FRkLWWZtOIQu",
        "colab": {
          "base_uri": "https://localhost:8080/"
        },
        "outputId": "6c7f986d-fc32-454a-9910-9df434b41903"
      },
      "source": [
        "import random\n",
        "\n",
        "N = int(input())\n",
        "a = list(range(1,N+1))\n",
        "sampleList1 = random.sample(a, N)\n",
        "print(sampleList1)\n",
        "\n",
        "M = int(input())\n",
        "b = list(range(1,M+1))\n",
        "sampleList2 = random.sample(b, M)\n",
        "print(sampleList2)\n",
        "\n",
        "if N > M :\n",
        "  for k in range(M):\n",
        "    if sampleList1[k] == sampleList2[k]:\n",
        "      print(1)\n",
        "    else:\n",
        "      print(0)\n"
      ],
      "execution_count": 19,
      "outputs": [
        {
          "output_type": "stream",
          "name": "stdout",
          "text": [
            "5\n",
            "[4, 5, 1, 3, 2]\n",
            "3\n",
            "[3, 1, 2]\n",
            "0\n",
            "0\n",
            "0\n"
          ]
        }
      ]
    }
  ]
}