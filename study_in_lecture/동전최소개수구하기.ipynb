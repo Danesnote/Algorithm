{
  "nbformat": 4,
  "nbformat_minor": 0,
  "metadata": {
    "colab": {
      "name": "baekjoon.ipynb",
      "provenance": [],
      "collapsed_sections": []
    },
    "kernelspec": {
      "name": "python3",
      "display_name": "Python 3"
    },
    "language_info": {
      "name": "python"
    }
  },
  "cells": [
    {
      "cell_type": "code",
      "metadata": {
        "id": "lY509W0s1NZW",
        "colab": {
          "base_uri": "https://localhost:8080/"
        },
        "outputId": "fc03e02e-42bd-4748-833f-838bc465454d"
      },
      "source": [
        "n = 1260\n",
        "count = 0\n",
        "\n",
        "#큰 단위의 화폐부터 차례로 확인\n",
        "coin_types = [500, 100, 50, 10]\n",
        "\n",
        "for coin in coin_types:\n",
        "  count += n // coin #동전 개수 세기\n",
        "  n %= coin # // 는 몫 % 는 나머지\n",
        "\n",
        "print(count)"
      ],
      "execution_count": 2,
      "outputs": [
        {
          "output_type": "stream",
          "name": "stdout",
          "text": [
            "6\n"
          ]
        }
      ]
    }
  ]
}