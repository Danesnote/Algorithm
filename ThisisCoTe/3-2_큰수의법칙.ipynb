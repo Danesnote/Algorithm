{
  "nbformat": 4,
  "nbformat_minor": 0,
  "metadata": {
    "colab": {
      "name": "3-2_큰수의법칙.ipynb",
      "provenance": []
    },
    "kernelspec": {
      "name": "python3",
      "display_name": "Python 3"
    },
    "language_info": {
      "name": "python"
    }
  },
  "cells": [
    {
      "cell_type": "code",
      "metadata": {
        "colab": {
          "base_uri": "https://localhost:8080/"
        },
        "id": "xs3NDUUPQSj_",
        "outputId": "7c867109-49d3-42c5-fcfd-aa84fbc2a76e"
      },
      "source": [
        "n,m,k = map(int,input().split())\n",
        "\n",
        "data = list(map(int,input().split()))"
      ],
      "execution_count": 7,
      "outputs": [
        {
          "name": "stdout",
          "output_type": "stream",
          "text": [
            "5 8 3\n",
            "2 4 5 4 6\n"
          ]
        }
      ]
    },
    {
      "cell_type": "code",
      "metadata": {
        "id": "UU6sQwpIRVfX"
      },
      "source": [
        "data.sort()\n",
        "\n",
        "first = data[-1] # 가장 큰 수\n",
        "second = data[-2] # 두 번째로 큰 수\n",
        "\n",
        "result = 0"
      ],
      "execution_count": 8,
      "outputs": []
    },
    {
      "cell_type": "code",
      "metadata": {
        "id": "mfeJZ6IkS8Mr"
      },
      "source": [
        "while True:\n",
        "  for i in range(k):\n",
        "    if m == 0:\n",
        "      break\n",
        "    result += first\n",
        "    m -= 1 # 더 할때마다 m에서 1씩 빼기\n",
        "  if m == 0:\n",
        "    break\n",
        "  result += second\n",
        "  m -= 1"
      ],
      "execution_count": 9,
      "outputs": []
    },
    {
      "cell_type": "code",
      "metadata": {
        "colab": {
          "base_uri": "https://localhost:8080/"
        },
        "id": "yUcVfiQ8Uxrp",
        "outputId": "5a6bc62f-1ab8-4919-fa78-5bbdad0ee638"
      },
      "source": [
        "print(result)"
      ],
      "execution_count": 10,
      "outputs": [
        {
          "output_type": "stream",
          "name": "stdout",
          "text": [
            "46\n"
          ]
        }
      ]
    }
  ]
}