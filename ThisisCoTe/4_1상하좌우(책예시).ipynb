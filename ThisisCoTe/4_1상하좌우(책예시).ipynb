{
  "nbformat": 4,
  "nbformat_minor": 0,
  "metadata": {
    "colab": {
      "name": "4-1상하좌우(책예시).ipynb",
      "provenance": []
    },
    "kernelspec": {
      "name": "python3",
      "display_name": "Python 3"
    },
    "language_info": {
      "name": "python"
    }
  },
  "cells": [
    {
      "cell_type": "code",
      "execution_count": 6,
      "metadata": {
        "colab": {
          "base_uri": "https://localhost:8080/"
        },
        "id": "k6zIlqRiSsEQ",
        "outputId": "46689d74-7afc-46a5-98c1-9384ff6547f4"
      },
      "outputs": [
        {
          "name": "stdout",
          "output_type": "stream",
          "text": [
            "5\n",
            "R R R U D D\n"
          ]
        }
      ],
      "source": [
        "n = int(input())\n",
        "\n",
        "x, y = 1, 1\n",
        "plans = input().split()"
      ]
    },
    {
      "cell_type": "code",
      "source": [
        "#이동 방향\n",
        "dx = [0, 0, -1, 1]\n",
        "dy = [-1, 1, 0, 0]\n",
        "move_types = ['L','R','U','D']"
      ],
      "metadata": {
        "id": "i-HzP6EhVahu"
      },
      "execution_count": 7,
      "outputs": []
    },
    {
      "cell_type": "code",
      "source": [
        "#이동 계획 확인\n",
        "for plan in plans:\n",
        "  for i in range(len(move_types)):\n",
        "    if plan == move_types[i]:\n",
        "      nx = x + dx[i]\n",
        "      ny = y + dy[i]\n",
        "    #공간 벗어날 시 무시\n",
        "    if nx < 1 or ny < 1 or nx > n or ny > n:\n",
        "      continue\n",
        "    # 이동 수행\n",
        "    x, y = nx, ny\n",
        "    "
      ],
      "metadata": {
        "id": "nwRvNkf9VpOW"
      },
      "execution_count": 8,
      "outputs": []
    },
    {
      "cell_type": "code",
      "source": [
        "x, y"
      ],
      "metadata": {
        "colab": {
          "base_uri": "https://localhost:8080/"
        },
        "id": "wsf6PegaWNYw",
        "outputId": "20c6381f-6c99-47da-c2aa-d69043f33751"
      },
      "execution_count": 9,
      "outputs": [
        {
          "output_type": "execute_result",
          "data": {
            "text/plain": [
              "(3, 4)"
            ]
          },
          "metadata": {},
          "execution_count": 9
        }
      ]
    }
  ]
}