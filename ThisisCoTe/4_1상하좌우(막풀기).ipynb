{
  "nbformat": 4,
  "nbformat_minor": 0,
  "metadata": {
    "colab": {
      "name": "4-1상하좌우(막풀기).ipynb",
      "provenance": [],
      "collapsed_sections": []
    },
    "kernelspec": {
      "name": "python3",
      "display_name": "Python 3"
    },
    "language_info": {
      "name": "python"
    }
  },
  "cells": [
    {
      "cell_type": "code",
      "source": [
        "n = int(input())\n",
        "m = input().split()\n",
        "\n"
      ],
      "metadata": {
        "colab": {
          "base_uri": "https://localhost:8080/"
        },
        "id": "Eyj9rPOmMnWi",
        "outputId": "33f5e7a4-ee3c-4b85-a682-83e92eb38744"
      },
      "execution_count": 1,
      "outputs": [
        {
          "name": "stdout",
          "output_type": "stream",
          "text": [
            "5\n",
            "R R R U D D\n"
          ]
        }
      ]
    },
    {
      "cell_type": "code",
      "source": [
        "type(m)"
      ],
      "metadata": {
        "colab": {
          "base_uri": "https://localhost:8080/"
        },
        "id": "o5_qWQKlNNzV",
        "outputId": "27e5504c-1562-439d-981e-6cdc7ae9f9db"
      },
      "execution_count": 2,
      "outputs": [
        {
          "output_type": "execute_result",
          "data": {
            "text/plain": [
              "list"
            ]
          },
          "metadata": {},
          "execution_count": 2
        }
      ]
    },
    {
      "cell_type": "code",
      "source": [
        "start_point = [1, 1]"
      ],
      "metadata": {
        "id": "8rnqkW0rOqUi"
      },
      "execution_count": 5,
      "outputs": []
    },
    {
      "cell_type": "code",
      "source": [
        "for i in range(len(m)):\n",
        "  if m[i]=='L':\n",
        "    start_point[1] -= 1\n",
        "    if start_point[1] == 0:\n",
        "      start_point[1] = 1\n",
        "  elif m[i]=='R':\n",
        "    start_point[1] += 1\n",
        "    if start_point[1] == n+1:\n",
        "      start_point[1] == n\n",
        "  elif m[i]=='U':\n",
        "    start_point[0] -= 1\n",
        "    if start_point[0] == 0:\n",
        "      start_point[0] = 1\n",
        "  elif m[i]=='D':\n",
        "    start_point[0] += 1\n",
        "    if start_point[0] == n+1:\n",
        "      start_point[0] = 1\n",
        "\n",
        "  "
      ],
      "metadata": {
        "id": "4PtuahD7OI2X"
      },
      "execution_count": 7,
      "outputs": []
    },
    {
      "cell_type": "code",
      "source": [
        "start_point"
      ],
      "metadata": {
        "colab": {
          "base_uri": "https://localhost:8080/"
        },
        "id": "hGnyZrKzQjZP",
        "outputId": "32746f9e-6ab1-4023-c4da-1fb2ddfd66cd"
      },
      "execution_count": 8,
      "outputs": [
        {
          "output_type": "execute_result",
          "data": {
            "text/plain": [
              "[3, 4]"
            ]
          },
          "metadata": {},
          "execution_count": 8
        }
      ]
    }
  ]
}