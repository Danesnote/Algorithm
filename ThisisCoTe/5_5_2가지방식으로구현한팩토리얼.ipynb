{
  "nbformat": 4,
  "nbformat_minor": 0,
  "metadata": {
    "colab": {
      "name": "5-52_2가지방식으로구현한팩토리얼.ipynb",
      "provenance": []
    },
    "kernelspec": {
      "name": "python3",
      "display_name": "Python 3"
    },
    "language_info": {
      "name": "python"
    }
  },
  "cells": [
    {
      "cell_type": "code",
      "execution_count": 1,
      "metadata": {
        "id": "XT7lJnd4fcT3"
      },
      "outputs": [],
      "source": [
        "def factorial_iterative(n):\n",
        "  result = 1\n",
        "\n",
        "  for i in range(1,n+1):\n",
        "    result *= i\n",
        "  return result"
      ]
    },
    {
      "cell_type": "code",
      "source": [
        "factorial_iterative(5)"
      ],
      "metadata": {
        "colab": {
          "base_uri": "https://localhost:8080/"
        },
        "id": "DeQHCyUVhXW8",
        "outputId": "5e932401-3532-4f76-99f5-cdfc2f023d10"
      },
      "execution_count": 2,
      "outputs": [
        {
          "output_type": "execute_result",
          "data": {
            "text/plain": [
              "120"
            ]
          },
          "metadata": {},
          "execution_count": 2
        }
      ]
    },
    {
      "cell_type": "code",
      "source": [
        "def factorial_recursive(n):\n",
        "  if n <= 1:\n",
        "    return 1\n",
        "  \n",
        "  return n * factorial_recursive(n - 1)"
      ],
      "metadata": {
        "id": "_vMDbwKuhZ3l"
      },
      "execution_count": 3,
      "outputs": []
    },
    {
      "cell_type": "code",
      "source": [
        "factorial_recursive(5)"
      ],
      "metadata": {
        "colab": {
          "base_uri": "https://localhost:8080/"
        },
        "id": "3nMuBDD_hiMU",
        "outputId": "56ee5438-e124-4f6f-892c-582a2b3628b7"
      },
      "execution_count": 4,
      "outputs": [
        {
          "output_type": "execute_result",
          "data": {
            "text/plain": [
              "120"
            ]
          },
          "metadata": {},
          "execution_count": 4
        }
      ]
    }
  ]
}