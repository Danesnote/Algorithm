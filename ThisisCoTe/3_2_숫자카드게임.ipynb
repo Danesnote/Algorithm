{
  "nbformat": 4,
  "nbformat_minor": 0,
  "metadata": {
    "colab": {
      "name": "3-2_숫자카드게임.ipynb",
      "provenance": []
    },
    "kernelspec": {
      "name": "python3",
      "display_name": "Python 3"
    },
    "language_info": {
      "name": "python"
    }
  },
  "cells": [
    {
      "cell_type": "code",
      "metadata": {
        "colab": {
          "base_uri": "https://localhost:8080/"
        },
        "id": "KpmkbNbcV6Q8",
        "outputId": "c2ffe21a-f503-4a23-a80e-daeda82f7929"
      },
      "source": [
        "n,m = map(int,input().split())\n"
      ],
      "execution_count": 23,
      "outputs": [
        {
          "name": "stdout",
          "output_type": "stream",
          "text": [
            "2 4\n"
          ]
        }
      ]
    },
    {
      "cell_type": "code",
      "metadata": {
        "colab": {
          "base_uri": "https://localhost:8080/"
        },
        "id": "9_guYhTmWxjg",
        "outputId": "6a930051-8aa8-4c8e-b150-fcb5cae8c71a"
      },
      "source": [
        "k = []\n",
        "result = []\n",
        "\n",
        "for i in range(n):\n",
        "  k.append(list(map(int,input().split())))\n",
        "  k[i].sort\n",
        "  result.append(k[i][0])\n"
      ],
      "execution_count": 24,
      "outputs": [
        {
          "name": "stdout",
          "output_type": "stream",
          "text": [
            "7 3 1 8\n",
            "3 3 3 4\n"
          ]
        }
      ]
    },
    {
      "cell_type": "code",
      "metadata": {
        "colab": {
          "base_uri": "https://localhost:8080/"
        },
        "id": "1qb2wV-4Xk6J",
        "outputId": "3f419da0-889b-4193-d374-67e1351bd8bb"
      },
      "source": [
        "result.sort"
      ],
      "execution_count": 25,
      "outputs": [
        {
          "output_type": "execute_result",
          "data": {
            "text/plain": [
              "<function list.sort>"
            ]
          },
          "metadata": {},
          "execution_count": 25
        }
      ]
    },
    {
      "cell_type": "code",
      "metadata": {
        "colab": {
          "base_uri": "https://localhost:8080/"
        },
        "id": "zuWZLMTgZgp3",
        "outputId": "b74b0824-f5f8-4380-80a2-bc0889e89f38"
      },
      "source": [
        "result[-1]"
      ],
      "execution_count": 26,
      "outputs": [
        {
          "output_type": "execute_result",
          "data": {
            "text/plain": [
              "3"
            ]
          },
          "metadata": {},
          "execution_count": 26
        }
      ]
    }
  ]
}